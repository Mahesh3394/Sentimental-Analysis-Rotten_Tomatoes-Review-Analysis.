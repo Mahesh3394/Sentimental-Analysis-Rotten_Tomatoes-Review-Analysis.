{
 "cells": [
  {
   "cell_type": "code",
   "execution_count": 1,
   "id": "5bb05d6d",
   "metadata": {},
   "outputs": [],
   "source": [
    "# installing libraries\n",
    "from bs4 import BeautifulSoup as bs\n",
    "import requests as rq\n",
    "from urllib.request import urlopen\n",
    "import pandas as pd\n",
    "import numpy as  np\n",
    "import pandas as pd\n",
    "import requests\n",
    "import re\n",
    "import time\n",
    "import seaborn as sns\n"
   ]
  },
  {
   "cell_type": "code",
   "execution_count": 6,
   "id": "df8c9ff4",
   "metadata": {},
   "outputs": [],
   "source": [
    "# web scrapping for reviews\n",
    "\n",
    "headers = {\n",
    "    'Referer': 'https://www.rottentomatoes.com/m/notebook/reviews?type=user',\n",
    "    'User-Agent': 'Mozilla/5.0 (Windows NT 10.0; Win64; x64) AppleWebKit/537.36 (KHTML, like Gecko) Chrome/74.0.3729.108 Safari/537.36',\n",
    "    'X-Requested-With': 'XMLHttpRequest',\n",
    "}\n",
    "\n",
    "s = requests.Session()\n",
    "        \n",
    "def get_reviews(url):\n",
    "    r = requests.get(url)\n",
    "    movie_id = re.findall(r'(?<=movieId\":\")(.*)(?=\",\"type)',r.text)[0]\n",
    "\n",
    "    api_url = f\"https://www.rottentomatoes.com/napi/movie/{movie_id}/reviews/user\" #use reviews/userfor user reviews\n",
    "    \n",
    "    payload = {\n",
    "        'direction': 'next',\n",
    "        'endCursor': '',\n",
    "        'startCursor': '',\n",
    "    }\n",
    "    \n",
    "    review_data = []\n",
    "    \n",
    "    count=0\n",
    "\n",
    "    while True:\n",
    "        r = s.get(api_url, headers=headers, params=payload)\n",
    "        data = r.json()\n",
    "\n",
    "        if not data['pageInfo']['hasNextPage']:\n",
    "            break\n",
    "\n",
    "        payload['endCursor'] = data['pageInfo']['endCursor']\n",
    "        payload['startCursor'] = data['pageInfo']['startCursor'] if data['pageInfo'].get('startCursor') else ''\n",
    "\n",
    "        review_data.extend(data['reviews'])\n",
    "        time.sleep(5)\n",
    "        count= count+1\n",
    "        if count >500 :\n",
    "          break \n",
    "    \n",
    "    return review_data\n",
    "\n",
    "data = get_reviews('https://www.rottentomatoes.com/m/top_gun_maverick/reviews?type=user')\n",
    "df1 = pd.json_normalize(data)"
   ]
  },
  {
   "cell_type": "code",
   "execution_count": 7,
   "id": "63d80d2e",
   "metadata": {},
   "outputs": [
    {
     "data": {
      "text/plain": [
       "(510, 13)"
      ]
     },
     "execution_count": 7,
     "metadata": {},
     "output_type": "execute_result"
    }
   ],
   "source": [
    "df1.shape"
   ]
  },
  {
   "cell_type": "code",
   "execution_count": 8,
   "id": "c38079f4",
   "metadata": {},
   "outputs": [],
   "source": [
    "df1.to_csv('review')"
   ]
  },
  {
   "cell_type": "code",
   "execution_count": null,
   "id": "c649e314",
   "metadata": {},
   "outputs": [],
   "source": []
  }
 ],
 "metadata": {
  "kernelspec": {
   "display_name": "Python 3 (ipykernel)",
   "language": "python",
   "name": "python3"
  },
  "language_info": {
   "codemirror_mode": {
    "name": "ipython",
    "version": 3
   },
   "file_extension": ".py",
   "mimetype": "text/x-python",
   "name": "python",
   "nbconvert_exporter": "python",
   "pygments_lexer": "ipython3",
   "version": "3.9.7"
  }
 },
 "nbformat": 4,
 "nbformat_minor": 5
}
